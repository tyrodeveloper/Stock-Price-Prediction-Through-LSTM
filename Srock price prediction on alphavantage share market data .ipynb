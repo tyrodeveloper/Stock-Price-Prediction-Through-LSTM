{
 "cells": [
  {
   "cell_type": "code",
   "execution_count": 1,
   "metadata": {},
   "outputs": [],
   "source": [
    "from alpha_vantage.timeseries import TimeSeries\n"
   ]
  },
  {
   "cell_type": "code",
   "execution_count": 2,
   "metadata": {},
   "outputs": [],
   "source": [
    "import pandas as pd\n",
    "import numpy as np\n",
    "import matplotlib.pyplot as plt\n",
    "import seaborn as sns \n",
    "import datetime"
   ]
  },
  {
   "cell_type": "code",
   "execution_count": 3,
   "metadata": {},
   "outputs": [],
   "source": [
    "import requests\n",
    "import alpha_vantage\n",
    "import json\n",
    "\n",
    "API_URL = \"https://www.alphavantage.co/query\" \n",
    "symbols = ['QCOM',\"INTC\",\"PDD\"]\n",
    "data =[]\n",
    "for symbol in symbols:\n",
    "        data = { \"function\": \"TIME_SERIES_INTRADAY\", \n",
    "        \"symbol\": symbol,\n",
    "        \"interval\" : \"1min\",\n",
    "        \"outputsize\" : \"full\",\n",
    "        \"datatype\": \"json\", \n",
    "        \"apikey\": \"XXX\" } \n",
    "        response = requests.get(API_URL, data) \n",
    "        data = response.json()\n",
    "#         print(data)\n",
    "        a = (data['Time Series (1min)'])\n",
    "#         print(a)\n",
    "        keys = (a.keys())\n",
    "#         for key in keys:\n",
    "#                 print(a[key]['2. high'] + \" \" + a[key]['5. volume'])"
   ]
  },
  {
   "cell_type": "code",
   "execution_count": 4,
   "metadata": {},
   "outputs": [],
   "source": [
    "# import requests\n",
    "# import pandas as pd\n",
    "\n",
    "# API_URL = \"https://www.alphavantage.co/documentation\" \n",
    "# symbol = 'SMBL'\n",
    "\n",
    "# data1 = { \"function\": \"TIME_SERIES_DAILY\", \n",
    "# \"symbol\": symbol,\n",
    "# \"outputsize\" : \"full\",\n",
    "# \"datatype\": \"json\", \n",
    "# \"apikey\": \"XXX\" } \n",
    "\n",
    "# response = requests.get(API_URL, data1) \n",
    "# response_json = response.json() # maybe redundant\n",
    "# print(response_json)\n",
    "# data1 = pd.DataFrame.from_dict(response_json['Time Series (Daily)'], orient= 'index').sort_index(axis=1)\n",
    "# data1 = data1.rename(columns={ '1. open': 'Open', '2. high': 'High', '3. low': 'Low', '4. close': 'Close', '5. adjusted close': 'AdjClose', '6. volume': 'Volume'})\n",
    "# data1 = data1[[ 'Open', 'High', 'Low', 'Close', 'AdjClose', 'Volume']]\n",
    "# data1tail() # check OK or not"
   ]
  },
  {
   "cell_type": "code",
   "execution_count": 5,
   "metadata": {},
   "outputs": [],
   "source": [
    "# df = pd.DataFrame({'open': float, 'high': float, 'low': float, 'close':float, 'volume':float, 'timestamp':str})\n",
    "df = pd.DataFrame(data, columns = ['open', 'high','low', 'close', 'volume','timestamp']) \n"
   ]
  },
  {
   "cell_type": "code",
   "execution_count": 6,
   "metadata": {},
   "outputs": [],
   "source": [
    "df['open'] = df['open'].astype(float)\n",
    "df['high'] = df['high'].astype(float)\n",
    "df['low'] = df['low'].astype(float)\n",
    "df['close'] = df['close'].astype(float)\n",
    "df['volume'] = df['volume'].astype(float)\n",
    "df['timestamp'] = df['timestamp'].astype(str)"
   ]
  },
  {
   "cell_type": "code",
   "execution_count": 7,
   "metadata": {},
   "outputs": [
    {
     "name": "stdout",
     "output_type": "stream",
     "text": [
      "<class 'pandas.core.frame.DataFrame'>\n",
      "Index: 0 entries\n",
      "Data columns (total 6 columns):\n",
      "open         0 non-null float64\n",
      "high         0 non-null float64\n",
      "low          0 non-null float64\n",
      "close        0 non-null float64\n",
      "volume       0 non-null float64\n",
      "timestamp    0 non-null object\n",
      "dtypes: float64(5), object(1)\n",
      "memory usage: 0.0+ bytes\n"
     ]
    }
   ],
   "source": [
    "df.info()"
   ]
  },
  {
   "cell_type": "code",
   "execution_count": 8,
   "metadata": {},
   "outputs": [],
   "source": [
    "open_list = []\n",
    "high_list = []\n",
    "low_list = []\n",
    "close_list = []\n",
    "volume_list = []\n",
    "timestamp_list = []\n"
   ]
  },
  {
   "cell_type": "code",
   "execution_count": 10,
   "metadata": {},
   "outputs": [],
   "source": [
    "a = (data['Time Series (1min)'])\n",
    "# print(a)\n",
    "keys = (a.keys())\n",
    "for key in keys:\n",
    "    open_list.append(a[key]['1. open'])\n",
    "    high_list.append(a[key]['2. high'])\n",
    "    low_list.append(a[key]['3. low'])\n",
    "    close_list.append(a[key]['4. close']) \n",
    "    volume_list.append(a[key]['5. volume'])\n",
    "    timestamp_list.append(key)\n",
    "#     print(open_list)"
   ]
  },
  {
   "cell_type": "code",
   "execution_count": 11,
   "metadata": {},
   "outputs": [],
   "source": [
    "df['open'] = open_list\n",
    "df['high'] = high_list\n",
    "df['low'] = low_list\n",
    "df['close'] = close_list\n",
    "df['volume'] = volume_list\n",
    "df['timestamp'] = timestamp_list"
   ]
  },
  {
   "cell_type": "code",
   "execution_count": 12,
   "metadata": {},
   "outputs": [
    {
     "data": {
      "text/html": [
       "<div>\n",
       "<style scoped>\n",
       "    .dataframe tbody tr th:only-of-type {\n",
       "        vertical-align: middle;\n",
       "    }\n",
       "\n",
       "    .dataframe tbody tr th {\n",
       "        vertical-align: top;\n",
       "    }\n",
       "\n",
       "    .dataframe thead th {\n",
       "        text-align: right;\n",
       "    }\n",
       "</style>\n",
       "<table border=\"1\" class=\"dataframe\">\n",
       "  <thead>\n",
       "    <tr style=\"text-align: right;\">\n",
       "      <th></th>\n",
       "      <th>open</th>\n",
       "      <th>high</th>\n",
       "      <th>low</th>\n",
       "      <th>close</th>\n",
       "      <th>volume</th>\n",
       "      <th>timestamp</th>\n",
       "    </tr>\n",
       "  </thead>\n",
       "  <tbody>\n",
       "    <tr>\n",
       "      <th>0</th>\n",
       "      <td>36.8000</td>\n",
       "      <td>36.8300</td>\n",
       "      <td>36.8000</td>\n",
       "      <td>36.8100</td>\n",
       "      <td>96086</td>\n",
       "      <td>2020-02-12 16:00:00</td>\n",
       "    </tr>\n",
       "    <tr>\n",
       "      <th>1</th>\n",
       "      <td>36.8000</td>\n",
       "      <td>36.8100</td>\n",
       "      <td>36.7950</td>\n",
       "      <td>36.8050</td>\n",
       "      <td>90411</td>\n",
       "      <td>2020-02-12 15:59:00</td>\n",
       "    </tr>\n",
       "    <tr>\n",
       "      <th>2</th>\n",
       "      <td>36.8050</td>\n",
       "      <td>36.8100</td>\n",
       "      <td>36.7950</td>\n",
       "      <td>36.8000</td>\n",
       "      <td>70198</td>\n",
       "      <td>2020-02-12 15:58:00</td>\n",
       "    </tr>\n",
       "    <tr>\n",
       "      <th>3</th>\n",
       "      <td>36.8050</td>\n",
       "      <td>36.8100</td>\n",
       "      <td>36.8000</td>\n",
       "      <td>36.8100</td>\n",
       "      <td>38307</td>\n",
       "      <td>2020-02-12 15:57:00</td>\n",
       "    </tr>\n",
       "    <tr>\n",
       "      <th>4</th>\n",
       "      <td>36.8200</td>\n",
       "      <td>36.8300</td>\n",
       "      <td>36.7900</td>\n",
       "      <td>36.8001</td>\n",
       "      <td>34950</td>\n",
       "      <td>2020-02-12 15:56:00</td>\n",
       "    </tr>\n",
       "  </tbody>\n",
       "</table>\n",
       "</div>"
      ],
      "text/plain": [
       "      open     high      low    close volume            timestamp\n",
       "0  36.8000  36.8300  36.8000  36.8100  96086  2020-02-12 16:00:00\n",
       "1  36.8000  36.8100  36.7950  36.8050  90411  2020-02-12 15:59:00\n",
       "2  36.8050  36.8100  36.7950  36.8000  70198  2020-02-12 15:58:00\n",
       "3  36.8050  36.8100  36.8000  36.8100  38307  2020-02-12 15:57:00\n",
       "4  36.8200  36.8300  36.7900  36.8001  34950  2020-02-12 15:56:00"
      ]
     },
     "execution_count": 12,
     "metadata": {},
     "output_type": "execute_result"
    }
   ],
   "source": [
    "df.head(5)"
   ]
  },
  {
   "cell_type": "markdown",
   "metadata": {},
   "source": [
    " ## LSTM - Long Short Term Memory"
   ]
  },
  {
   "cell_type": "markdown",
   "metadata": {},
   "source": [
    "Recurrent netwoek has some disadvantages over LSTM .\n",
    "\n",
    "short-term memory : Recurrent Neural Networks suffer from short-term memory. If a sequence is long enough, they’ll have a hard time carrying information from earlier time steps to later ones. So if you are trying to process a paragraph of text to do predictions, RNN’s may leave out important information from the beginning.\n",
    "\n",
    "vanishing gradient problem : During back propagation, recurrent neural networks suffer from the vanishing gradient problem. Gradients are values used to update a neural networks weights. The vanishing gradient problem is when the gradient shrinks as it back propagates through time. If a gradient value becomes extremely small, it doesn’t contribute too much learning. \n",
    "\n",
    "used in Google Assistance , alexa "
   ]
  },
  {
   "cell_type": "code",
   "execution_count": 13,
   "metadata": {},
   "outputs": [
    {
     "data": {
      "text/plain": [
       "(1944, 6)"
      ]
     },
     "execution_count": 13,
     "metadata": {},
     "output_type": "execute_result"
    }
   ],
   "source": [
    "df.shape"
   ]
  },
  {
   "cell_type": "code",
   "execution_count": 14,
   "metadata": {},
   "outputs": [],
   "source": [
    "df_train = df.iloc[0:1900, :]\n",
    "df_test = df.iloc[1900:1944, :]"
   ]
  },
  {
   "cell_type": "code",
   "execution_count": 15,
   "metadata": {},
   "outputs": [],
   "source": [
    "training_set = df_train.iloc[:, 1:2].values "
   ]
  },
  {
   "cell_type": "code",
   "execution_count": 16,
   "metadata": {},
   "outputs": [],
   "source": [
    "# feature Scalling \n",
    "\n",
    "from sklearn.preprocessing import MinMaxScaler\n",
    "sc = MinMaxScaler(feature_range=(0,1))\n",
    "training_set_scaled = sc.fit_transform(training_set)"
   ]
  },
  {
   "cell_type": "code",
   "execution_count": 17,
   "metadata": {},
   "outputs": [],
   "source": [
    "x_train = []\n",
    "y_train = []\n",
    "for i in range(60, len(training_set_scaled)):\n",
    "    x_train.append(training_set_scaled[i-60:i, 0])\n",
    "    y_train.append(training_set_scaled[i, 0])\n",
    "x_train,y_train = np.array(x_train), np.array(y_train)"
   ]
  },
  {
   "cell_type": "code",
   "execution_count": 18,
   "metadata": {},
   "outputs": [
    {
     "data": {
      "text/plain": [
       "(1840, 60)"
      ]
     },
     "execution_count": 18,
     "metadata": {},
     "output_type": "execute_result"
    }
   ],
   "source": [
    "x_train.shape"
   ]
  },
  {
   "cell_type": "code",
   "execution_count": 19,
   "metadata": {},
   "outputs": [
    {
     "data": {
      "text/plain": [
       "(1840,)"
      ]
     },
     "execution_count": 19,
     "metadata": {},
     "output_type": "execute_result"
    }
   ],
   "source": [
    "y_train.shape"
   ]
  },
  {
   "cell_type": "code",
   "execution_count": 20,
   "metadata": {},
   "outputs": [
    {
     "name": "stderr",
     "output_type": "stream",
     "text": [
      "Using TensorFlow backend.\n"
     ]
    }
   ],
   "source": [
    "from keras.models import Sequential\n",
    "from keras.layers import Dense, LSTM, Dropout\n"
   ]
  },
  {
   "cell_type": "code",
   "execution_count": 21,
   "metadata": {},
   "outputs": [],
   "source": [
    "x_train= np.reshape(x_train, (x_train.shape[0], x_train.shape[1], 1))"
   ]
  },
  {
   "cell_type": "code",
   "execution_count": 22,
   "metadata": {},
   "outputs": [
    {
     "name": "stdout",
     "output_type": "stream",
     "text": [
      "WARNING:tensorflow:From C:\\Users\\shefali.agrawal\\AppData\\Local\\Continuum\\anaconda3\\lib\\site-packages\\keras\\backend\\tensorflow_backend.py:422: The name tf.global_variables is deprecated. Please use tf.compat.v1.global_variables instead.\n",
      "\n",
      "Epoch 1/100\n",
      "1840/1840 [==============================] - 44s 24ms/step - loss: 0.0273\n",
      "Epoch 2/100\n",
      "1840/1840 [==============================] - 38s 21ms/step - loss: 0.0063\n",
      "Epoch 3/100\n",
      "1840/1840 [==============================] - 38s 21ms/step - loss: 0.0058\n",
      "Epoch 4/100\n",
      "1840/1840 [==============================] - 38s 21ms/step - loss: 0.0055\n",
      "Epoch 5/100\n",
      "1840/1840 [==============================] - 38s 21ms/step - loss: 0.0052\n",
      "Epoch 6/100\n",
      "1840/1840 [==============================] - 38s 21ms/step - loss: 0.0050\n",
      "Epoch 7/100\n",
      "1840/1840 [==============================] - 38s 21ms/step - loss: 0.0047\n",
      "Epoch 8/100\n",
      "1840/1840 [==============================] - 39s 21ms/step - loss: 0.0048\n",
      "Epoch 9/100\n",
      "1840/1840 [==============================] - 37s 20ms/step - loss: 0.0045\n",
      "Epoch 10/100\n",
      "1840/1840 [==============================] - 37s 20ms/step - loss: 0.0042\n",
      "Epoch 11/100\n",
      "1840/1840 [==============================] - 38s 21ms/step - loss: 0.0039\n",
      "Epoch 12/100\n",
      "1840/1840 [==============================] - 38s 21ms/step - loss: 0.0038\n",
      "Epoch 13/100\n",
      "1840/1840 [==============================] - 38s 21ms/step - loss: 0.0037\n",
      "Epoch 14/100\n",
      "1840/1840 [==============================] - 38s 21ms/step - loss: 0.0039\n",
      "Epoch 15/100\n",
      "1840/1840 [==============================] - 39s 21ms/step - loss: 0.0037\n",
      "Epoch 16/100\n",
      "1840/1840 [==============================] - 39s 21ms/step - loss: 0.0032\n",
      "Epoch 17/100\n",
      "1840/1840 [==============================] - 38s 21ms/step - loss: 0.0033\n",
      "Epoch 18/100\n",
      "1840/1840 [==============================] - 39s 21ms/step - loss: 0.0032\n",
      "Epoch 19/100\n",
      "1840/1840 [==============================] - 38s 21ms/step - loss: 0.0033\n",
      "Epoch 20/100\n",
      "1840/1840 [==============================] - 38s 21ms/step - loss: 0.0031\n",
      "Epoch 21/100\n",
      "1840/1840 [==============================] - 38s 21ms/step - loss: 0.0033\n",
      "Epoch 22/100\n",
      "1840/1840 [==============================] - 38s 21ms/step - loss: 0.0030\n",
      "Epoch 23/100\n",
      "1840/1840 [==============================] - 38s 21ms/step - loss: 0.0030\n",
      "Epoch 24/100\n",
      "1840/1840 [==============================] - 38s 21ms/step - loss: 0.0029\n",
      "Epoch 25/100\n",
      "1840/1840 [==============================] - 40s 22ms/step - loss: 0.0027\n",
      "Epoch 26/100\n",
      "1840/1840 [==============================] - 38s 21ms/step - loss: 0.0028\n",
      "Epoch 27/100\n",
      "1840/1840 [==============================] - 38s 21ms/step - loss: 0.0024\n",
      "Epoch 28/100\n",
      "1840/1840 [==============================] - 38s 21ms/step - loss: 0.0024\n",
      "Epoch 29/100\n",
      "1840/1840 [==============================] - 38s 21ms/step - loss: 0.0026\n",
      "Epoch 30/100\n",
      "1840/1840 [==============================] - 38s 21ms/step - loss: 0.0024\n",
      "Epoch 31/100\n",
      "1840/1840 [==============================] - 38s 21ms/step - loss: 0.0022\n",
      "Epoch 32/100\n",
      "1840/1840 [==============================] - 38s 21ms/step - loss: 0.0025\n",
      "Epoch 33/100\n",
      "1840/1840 [==============================] - 38s 21ms/step - loss: 0.0024\n",
      "Epoch 34/100\n",
      "1840/1840 [==============================] - 38s 21ms/step - loss: 0.0021\n",
      "Epoch 35/100\n",
      "1840/1840 [==============================] - 38s 21ms/step - loss: 0.0021\n",
      "Epoch 36/100\n",
      "1840/1840 [==============================] - 41s 22ms/step - loss: 0.0021\n",
      "Epoch 37/100\n",
      "1840/1840 [==============================] - 39s 21ms/step - loss: 0.0022\n",
      "Epoch 38/100\n",
      "1840/1840 [==============================] - 38s 21ms/step - loss: 0.0020\n",
      "Epoch 39/100\n",
      "1840/1840 [==============================] - 38s 21ms/step - loss: 0.0020\n",
      "Epoch 40/100\n",
      "1840/1840 [==============================] - 38s 21ms/step - loss: 0.0020\n",
      "Epoch 41/100\n",
      "1840/1840 [==============================] - 38s 21ms/step - loss: 0.0020\n",
      "Epoch 42/100\n",
      "1840/1840 [==============================] - 39s 21ms/step - loss: 0.0022\n",
      "Epoch 43/100\n",
      "1840/1840 [==============================] - 38s 21ms/step - loss: 0.0021\n",
      "Epoch 44/100\n",
      "1840/1840 [==============================] - 39s 21ms/step - loss: 0.0018\n",
      "Epoch 45/100\n",
      "1840/1840 [==============================] - 38s 21ms/step - loss: 0.0019\n",
      "Epoch 46/100\n",
      "1840/1840 [==============================] - 38s 20ms/step - loss: 0.0021\n",
      "Epoch 47/100\n",
      "1840/1840 [==============================] - 38s 21ms/step - loss: 0.0019\n",
      "Epoch 48/100\n",
      "1840/1840 [==============================] - 39s 21ms/step - loss: 0.0018\n",
      "Epoch 49/100\n",
      "1840/1840 [==============================] - 39s 21ms/step - loss: 0.0018\n",
      "Epoch 50/100\n",
      "1840/1840 [==============================] - 39s 21ms/step - loss: 0.0017\n",
      "Epoch 51/100\n",
      "1840/1840 [==============================] - 40s 22ms/step - loss: 0.0018\n",
      "Epoch 52/100\n",
      "1840/1840 [==============================] - 39s 21ms/step - loss: 0.0017\n",
      "Epoch 53/100\n",
      "1840/1840 [==============================] - 39s 21ms/step - loss: 0.0018\n",
      "Epoch 54/100\n",
      "1840/1840 [==============================] - 39s 21ms/step - loss: 0.0017\n",
      "Epoch 55/100\n",
      "1840/1840 [==============================] - 39s 21ms/step - loss: 0.0017\n",
      "Epoch 56/100\n",
      "1840/1840 [==============================] - 39s 21ms/step - loss: 0.0018\n",
      "Epoch 57/100\n",
      "1840/1840 [==============================] - 39s 21ms/step - loss: 0.0019\n",
      "Epoch 58/100\n",
      "1840/1840 [==============================] - 39s 21ms/step - loss: 0.0016\n",
      "Epoch 59/100\n",
      "1840/1840 [==============================] - 39s 21ms/step - loss: 0.0016\n",
      "Epoch 60/100\n",
      "1840/1840 [==============================] - 38s 21ms/step - loss: 0.0017\n",
      "Epoch 61/100\n",
      "1840/1840 [==============================] - 37s 20ms/step - loss: 0.0016\n",
      "Epoch 62/100\n",
      "1840/1840 [==============================] - 39s 21ms/step - loss: 0.0017\n",
      "Epoch 63/100\n",
      "1840/1840 [==============================] - 39s 21ms/step - loss: 0.0015\n",
      "Epoch 64/100\n",
      "1840/1840 [==============================] - 40s 22ms/step - loss: 0.0016\n",
      "Epoch 65/100\n",
      "1840/1840 [==============================] - 40s 22ms/step - loss: 0.0015\n",
      "Epoch 66/100\n",
      "1840/1840 [==============================] - 39s 21ms/step - loss: 0.0015\n",
      "Epoch 67/100\n",
      "1840/1840 [==============================] - 39s 21ms/step - loss: 0.0015\n",
      "Epoch 68/100\n",
      "1840/1840 [==============================] - 39s 21ms/step - loss: 0.0015\n",
      "Epoch 69/100\n",
      "1840/1840 [==============================] - 39s 21ms/step - loss: 0.0014\n",
      "Epoch 70/100\n",
      "1840/1840 [==============================] - 39s 21ms/step - loss: 0.0014\n",
      "Epoch 71/100\n",
      "1840/1840 [==============================] - 40s 22ms/step - loss: 0.0013\n",
      "Epoch 72/100\n",
      "1840/1840 [==============================] - 39s 21ms/step - loss: 0.0012\n",
      "Epoch 73/100\n",
      "1840/1840 [==============================] - 38s 21ms/step - loss: 0.0013\n",
      "Epoch 74/100\n",
      "1840/1840 [==============================] - 38s 21ms/step - loss: 0.0014\n",
      "Epoch 75/100\n",
      "1840/1840 [==============================] - 39s 21ms/step - loss: 0.0015\n",
      "Epoch 76/100\n",
      "1840/1840 [==============================] - 39s 21ms/step - loss: 0.0012\n",
      "Epoch 77/100\n",
      "1840/1840 [==============================] - 39s 21ms/step - loss: 0.0015\n",
      "Epoch 78/100\n",
      "1840/1840 [==============================] - 39s 21ms/step - loss: 0.0013\n",
      "Epoch 79/100\n",
      "1840/1840 [==============================] - 39s 21ms/step - loss: 0.0014\n",
      "Epoch 80/100\n",
      "1840/1840 [==============================] - 38s 21ms/step - loss: 0.0014\n",
      "Epoch 81/100\n",
      "1840/1840 [==============================] - 38s 21ms/step - loss: 0.0013\n",
      "Epoch 82/100\n",
      "1840/1840 [==============================] - 38s 21ms/step - loss: 0.0011\n",
      "Epoch 83/100\n",
      "1840/1840 [==============================] - 39s 21ms/step - loss: 0.0012\n",
      "Epoch 84/100\n",
      "1840/1840 [==============================] - 39s 21ms/step - loss: 0.0014\n",
      "Epoch 85/100\n",
      "1840/1840 [==============================] - 38s 21ms/step - loss: 0.0014\n",
      "Epoch 86/100\n",
      "1840/1840 [==============================] - 38s 21ms/step - loss: 0.0013\n",
      "Epoch 87/100\n",
      "1840/1840 [==============================] - 38s 21ms/step - loss: 0.0012\n",
      "Epoch 88/100\n",
      "1840/1840 [==============================] - 39s 21ms/step - loss: 0.0012\n",
      "Epoch 89/100\n",
      "1840/1840 [==============================] - 39s 21ms/step - loss: 0.0012\n",
      "Epoch 90/100\n",
      "1840/1840 [==============================] - 38s 21ms/step - loss: 0.0011\n",
      "Epoch 91/100\n",
      "1840/1840 [==============================] - 38s 21ms/step - loss: 0.0012\n",
      "Epoch 92/100\n"
     ]
    },
    {
     "name": "stdout",
     "output_type": "stream",
     "text": [
      "1840/1840 [==============================] - 38s 21ms/step - loss: 0.0013\n",
      "Epoch 93/100\n",
      "1840/1840 [==============================] - 39s 21ms/step - loss: 0.0011\n",
      "Epoch 94/100\n",
      "1840/1840 [==============================] - 38s 21ms/step - loss: 0.0012\n",
      "Epoch 95/100\n",
      "1840/1840 [==============================] - 38s 21ms/step - loss: 0.0013\n",
      "Epoch 96/100\n",
      "1840/1840 [==============================] - 38s 21ms/step - loss: 0.0012\n",
      "Epoch 97/100\n",
      "1840/1840 [==============================] - 39s 21ms/step - loss: 0.0010\n",
      "Epoch 98/100\n",
      "1840/1840 [==============================] - 38s 21ms/step - loss: 0.0013\n",
      "Epoch 99/100\n",
      "1840/1840 [==============================] - 38s 21ms/step - loss: 0.0012\n",
      "Epoch 100/100\n",
      "1840/1840 [==============================] - 38s 21ms/step - loss: 0.0013\n"
     ]
    },
    {
     "data": {
      "text/plain": [
       "<keras.callbacks.callbacks.History at 0x153704347f0>"
      ]
     },
     "execution_count": 22,
     "metadata": {},
     "output_type": "execute_result"
    }
   ],
   "source": [
    "model = Sequential()\n",
    "model.add(LSTM(units=60,return_sequences=True,input_shape=(x_train.shape[1], 1)))\n",
    "model.add(Dropout(0.2))\n",
    "model.add(LSTM(units=60,return_sequences=True))\n",
    "model.add(Dropout(0.2))\n",
    "model.add(LSTM(units=60,return_sequences=True))\n",
    "model.add(Dropout(0.2))\n",
    "model.add(LSTM(units=60))\n",
    "model.add(Dropout(0.2))\n",
    "model.add(Dense(units=1))\n",
    "model.compile(optimizer='adam',loss='mean_squared_error')\n",
    "model.fit(x_train,y_train,epochs=100,batch_size=32)"
   ]
  },
  {
   "cell_type": "code",
   "execution_count": 23,
   "metadata": {},
   "outputs": [],
   "source": [
    "testing_set = df_test.iloc[:, 1:2]"
   ]
  },
  {
   "cell_type": "code",
   "execution_count": 24,
   "metadata": {},
   "outputs": [],
   "source": [
    "dataset_total = pd.concat((df_train['open'], df_test['open']), axis =0 )\n",
    "inputs = dataset_total[len(dataset_total)- len(df_test)-60:].values\n",
    "inputs = inputs.reshape(-1, 1)\n",
    "inputs = sc.transform(inputs)\n",
    "x_test=[]\n",
    "for i in range(60, 104):\n",
    "    x_test.append(inputs[i-60:i, 0])\n",
    "x_test = np.array(x_test)\n",
    "x_test = np.reshape(x_test, (x_test.shape[0], x_test.shape[1], 1))\n",
    "predicted_stock_price = model.predict(x_test)\n",
    "predicted_stock_price = sc.inverse_transform(predicted_stock_price)"
   ]
  },
  {
   "cell_type": "markdown",
   "metadata": {},
   "source": [
    " Here train data size is : 1900\n",
    " test data size is : 44\n",
    " loss : 0.0010\n",
    " column size : 60"
   ]
  },
  {
   "cell_type": "code",
   "execution_count": 25,
   "metadata": {},
   "outputs": [
    {
     "data": {
      "image/png": "[encoded data removed]",
      "text/plain": [
       "<Figure size 432x288 with 1 Axes>"
      ]
     },
     "metadata": {
      "needs_background": "light"
     },
     "output_type": "display_data"
    }
   ],
   "source": [
    "plt.plot(df_test['timestamp'],predicted_stock_price, color='blue', label ='predicted stock price')\n",
    "plt.plot(df_test['timestamp'],df_test['open'].astype('float32'), color='red', label='real stock price ')\n",
    "\n",
    "plt.title('stock price prediction' )\n",
    "plt.xlabel('Time')\n",
    "\n",
    "plt.ylabel('google stock price')\n",
    "plt.legend()\n",
    "plt.show()"
   ]
  }
 ],
 "metadata": {
  "kernelspec": {
   "display_name": "Python 3",
   "language": "python",
   "name": "python3"
  },
  "language_info": {
   "codemirror_mode": {
    "name": "ipython",
    "version": 3
   },
   "file_extension": ".py",
   "mimetype": "text/x-python",
   "name": "python",
   "nbconvert_exporter": "python",
   "pygments_lexer": "ipython3",
   "version": "3.7.3"
  }
 },
 "nbformat": 4,
 "nbformat_minor": 2
}
